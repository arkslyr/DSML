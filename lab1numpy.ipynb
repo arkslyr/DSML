{
 "cells": [
  {
   "cell_type": "code",
   "execution_count": 1,
   "metadata": {},
   "outputs": [],
   "source": [
    "import numpy as np"
   ]
  },
  {
   "cell_type": "code",
   "execution_count": 3,
   "metadata": {},
   "outputs": [
    {
     "name": "stdout",
     "output_type": "stream",
     "text": [
      "greater  [False False False False] greater equal  [ True False False False] less  [False  True  True  True] Less than or equal [False  True  True  True] equal\n"
     ]
    }
   ],
   "source": [
    "l1=np.array([1,2,3,4]);\n",
    "l2=np.array([1,3,5,7]);\n",
    "gr=np.greater(l1,l2);\n",
    "gt=np.greater_equal(l1,l2);\n",
    "le=np.less(l1,l2);\n",
    "lt=np.less_equal(l1,l2);\n",
    "eq=np.equal(l1,l2);\n",
    "print(\"greater \",gr,\"greater equal \",gt,\"less \",le,\"Less than or equal\",le,\"equal\");\n"
   ]
  },
  {
   "cell_type": "code",
   "execution_count": 4,
   "metadata": {},
   "outputs": [
    {
     "data": {
      "text/plain": [
       "array([20, 22, 24, 26, 28, 30, 32, 34, 36, 38, 40, 42, 44, 46, 48, 50])"
      ]
     },
     "execution_count": 4,
     "metadata": {},
     "output_type": "execute_result"
    }
   ],
   "source": [
    "l=np.arange(20,51,2);\n",
    "l"
   ]
  },
  {
   "cell_type": "code",
   "execution_count": 5,
   "metadata": {},
   "outputs": [
    {
     "data": {
      "text/plain": [
       "array([[1, 0, 0, 0],\n",
       "       [0, 1, 0, 0],\n",
       "       [0, 0, 1, 0],\n",
       "       [0, 0, 0, 1]])"
      ]
     },
     "execution_count": 5,
     "metadata": {},
     "output_type": "execute_result"
    }
   ],
   "source": [
    "iden=np.identity(4,dtype=int);\n",
    "iden"
   ]
  },
  {
   "cell_type": "code",
   "execution_count": 6,
   "metadata": {},
   "outputs": [
    {
     "data": {
      "text/plain": [
       "array([[1, 0, 0, 0, 0],\n",
       "       [0, 2, 0, 0, 0],\n",
       "       [0, 0, 3, 0, 0],\n",
       "       [0, 0, 0, 4, 0],\n",
       "       [0, 0, 0, 0, 5]])"
      ]
     },
     "execution_count": 6,
     "metadata": {},
     "output_type": "execute_result"
    }
   ],
   "source": [
    "diag=np.diag([1,2,3,4,5])\n",
    "diag"
   ]
  },
  {
   "cell_type": "code",
   "execution_count": 7,
   "metadata": {},
   "outputs": [
    {
     "name": "stdout",
     "output_type": "stream",
     "text": [
      "[ 1  2  3  4  5  6  7  8  9 10 11 12 13 14 15 16 17 18 19 20]\n",
      "[  1   2   3   4   5   6   7   8   9  -9  11 -11  13 -13  15 -15  17  18\n",
      "  19  20]\n"
     ]
    }
   ],
   "source": [
    "n=np.arange(1,21)\n",
    "print(n)\n",
    "for i in n:\n",
    "    if i>=9 and i<=15:\n",
    "        n[i]=i*-1\n",
    "print(n)         "
   ]
  },
  {
   "cell_type": "code",
   "execution_count": 11,
   "metadata": {},
   "outputs": [
    {
     "name": "stdout",
     "output_type": "stream",
     "text": [
      "[[1 2]\n",
      " [3 4]]\n",
      "sum 10\n",
      "Sum of cols  [4 6]\n",
      "Sum of rows  [3 7]\n"
     ]
    }
   ],
   "source": [
    "n=[[1,2],[3,4]]\n",
    "a=np.array(n)\n",
    "print(a)\n",
    "print(\"sum\",a.sum())\n",
    "print(\"Sum of cols \",a.sum(0))\n",
    "print(\"Sum of rows \",a.sum(1))"
   ]
  },
  {
   "cell_type": "code",
   "execution_count": null,
   "metadata": {},
   "outputs": [],
   "source": []
  }
 ],
 "metadata": {
  "kernelspec": {
   "display_name": "Python 3",
   "language": "python",
   "name": "python3"
  },
  "language_info": {
   "codemirror_mode": {
    "name": "ipython",
    "version": 3
   },
   "file_extension": ".py",
   "mimetype": "text/x-python",
   "name": "python",
   "nbconvert_exporter": "python",
   "pygments_lexer": "ipython3",
   "version": "3.12.4"
  }
 },
 "nbformat": 4,
 "nbformat_minor": 2
}
